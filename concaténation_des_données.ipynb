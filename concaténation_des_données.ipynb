{
  "nbformat": 4,
  "nbformat_minor": 0,
  "metadata": {
    "kernelspec": {
      "display_name": "Python 3",
      "language": "python",
      "name": "python3"
    },
    "language_info": {
      "codemirror_mode": {
        "name": "ipython",
        "version": 3
      },
      "file_extension": ".py",
      "mimetype": "text/x-python",
      "name": "python",
      "nbconvert_exporter": "python",
      "pygments_lexer": "ipython3",
      "version": "3.8.5"
    },
    "colab": {
      "name": "concaténation_des_données.ipynb",
      "provenance": [],
      "toc_visible": true
    }
  },
  "cells": [
    {
      "cell_type": "code",
      "metadata": {
        "colab": {
          "base_uri": "https://localhost:8080/",
          "height": 204
        },
        "id": "O54niWF2i5dD",
        "outputId": "45080802-ed74-4bb4-a5dd-f5631c0e6eab"
      },
      "source": [
        "import pandas as pd\n",
        "\n",
        "df1 = pd.read_csv(\"Emotion_final.csv\")\n",
        "df = pd.read_csv(\"text_emotion.csv\")\n",
        "df.head(5)"
      ],
      "execution_count": 3,
      "outputs": [
        {
          "output_type": "execute_result",
          "data": {
            "text/html": [
              "<div>\n",
              "<style scoped>\n",
              "    .dataframe tbody tr th:only-of-type {\n",
              "        vertical-align: middle;\n",
              "    }\n",
              "\n",
              "    .dataframe tbody tr th {\n",
              "        vertical-align: top;\n",
              "    }\n",
              "\n",
              "    .dataframe thead th {\n",
              "        text-align: right;\n",
              "    }\n",
              "</style>\n",
              "<table border=\"1\" class=\"dataframe\">\n",
              "  <thead>\n",
              "    <tr style=\"text-align: right;\">\n",
              "      <th></th>\n",
              "      <th>tweet_id</th>\n",
              "      <th>sentiment</th>\n",
              "      <th>author</th>\n",
              "      <th>content</th>\n",
              "    </tr>\n",
              "  </thead>\n",
              "  <tbody>\n",
              "    <tr>\n",
              "      <th>0</th>\n",
              "      <td>1956967341</td>\n",
              "      <td>empty</td>\n",
              "      <td>xoshayzers</td>\n",
              "      <td>@tiffanylue i know  i was listenin to bad habi...</td>\n",
              "    </tr>\n",
              "    <tr>\n",
              "      <th>1</th>\n",
              "      <td>1956967666</td>\n",
              "      <td>sadness</td>\n",
              "      <td>wannamama</td>\n",
              "      <td>Layin n bed with a headache  ughhhh...waitin o...</td>\n",
              "    </tr>\n",
              "    <tr>\n",
              "      <th>2</th>\n",
              "      <td>1956967696</td>\n",
              "      <td>sadness</td>\n",
              "      <td>coolfunky</td>\n",
              "      <td>Funeral ceremony...gloomy friday...</td>\n",
              "    </tr>\n",
              "    <tr>\n",
              "      <th>3</th>\n",
              "      <td>1956967789</td>\n",
              "      <td>enthusiasm</td>\n",
              "      <td>czareaquino</td>\n",
              "      <td>wants to hang out with friends SOON!</td>\n",
              "    </tr>\n",
              "    <tr>\n",
              "      <th>4</th>\n",
              "      <td>1956968416</td>\n",
              "      <td>neutral</td>\n",
              "      <td>xkilljoyx</td>\n",
              "      <td>@dannycastillo We want to trade with someone w...</td>\n",
              "    </tr>\n",
              "  </tbody>\n",
              "</table>\n",
              "</div>"
            ],
            "text/plain": [
              "     tweet_id  ...                                            content\n",
              "0  1956967341  ...  @tiffanylue i know  i was listenin to bad habi...\n",
              "1  1956967666  ...  Layin n bed with a headache  ughhhh...waitin o...\n",
              "2  1956967696  ...                Funeral ceremony...gloomy friday...\n",
              "3  1956967789  ...               wants to hang out with friends SOON!\n",
              "4  1956968416  ...  @dannycastillo We want to trade with someone w...\n",
              "\n",
              "[5 rows x 4 columns]"
            ]
          },
          "metadata": {
            "tags": []
          },
          "execution_count": 3
        }
      ]
    },
    {
      "cell_type": "code",
      "metadata": {
        "colab": {
          "base_uri": "https://localhost:8080/",
          "height": 419
        },
        "id": "WUwmh5_Yi5dF",
        "outputId": "27a1ef38-8570-4c39-e131-e9f479977bac"
      },
      "source": [
        "df = df[[\"content\",\"sentiment\"]] \n",
        "df"
      ],
      "execution_count": 4,
      "outputs": [
        {
          "output_type": "execute_result",
          "data": {
            "text/html": [
              "<div>\n",
              "<style scoped>\n",
              "    .dataframe tbody tr th:only-of-type {\n",
              "        vertical-align: middle;\n",
              "    }\n",
              "\n",
              "    .dataframe tbody tr th {\n",
              "        vertical-align: top;\n",
              "    }\n",
              "\n",
              "    .dataframe thead th {\n",
              "        text-align: right;\n",
              "    }\n",
              "</style>\n",
              "<table border=\"1\" class=\"dataframe\">\n",
              "  <thead>\n",
              "    <tr style=\"text-align: right;\">\n",
              "      <th></th>\n",
              "      <th>content</th>\n",
              "      <th>sentiment</th>\n",
              "    </tr>\n",
              "  </thead>\n",
              "  <tbody>\n",
              "    <tr>\n",
              "      <th>0</th>\n",
              "      <td>@tiffanylue i know  i was listenin to bad habi...</td>\n",
              "      <td>empty</td>\n",
              "    </tr>\n",
              "    <tr>\n",
              "      <th>1</th>\n",
              "      <td>Layin n bed with a headache  ughhhh...waitin o...</td>\n",
              "      <td>sadness</td>\n",
              "    </tr>\n",
              "    <tr>\n",
              "      <th>2</th>\n",
              "      <td>Funeral ceremony...gloomy friday...</td>\n",
              "      <td>sadness</td>\n",
              "    </tr>\n",
              "    <tr>\n",
              "      <th>3</th>\n",
              "      <td>wants to hang out with friends SOON!</td>\n",
              "      <td>enthusiasm</td>\n",
              "    </tr>\n",
              "    <tr>\n",
              "      <th>4</th>\n",
              "      <td>@dannycastillo We want to trade with someone w...</td>\n",
              "      <td>neutral</td>\n",
              "    </tr>\n",
              "    <tr>\n",
              "      <th>...</th>\n",
              "      <td>...</td>\n",
              "      <td>...</td>\n",
              "    </tr>\n",
              "    <tr>\n",
              "      <th>39995</th>\n",
              "      <td>@JohnLloydTaylor</td>\n",
              "      <td>neutral</td>\n",
              "    </tr>\n",
              "    <tr>\n",
              "      <th>39996</th>\n",
              "      <td>Happy Mothers Day  All my love</td>\n",
              "      <td>love</td>\n",
              "    </tr>\n",
              "    <tr>\n",
              "      <th>39997</th>\n",
              "      <td>Happy Mother's Day to all the mommies out ther...</td>\n",
              "      <td>love</td>\n",
              "    </tr>\n",
              "    <tr>\n",
              "      <th>39998</th>\n",
              "      <td>@niariley WASSUP BEAUTIFUL!!! FOLLOW ME!!  PEE...</td>\n",
              "      <td>happiness</td>\n",
              "    </tr>\n",
              "    <tr>\n",
              "      <th>39999</th>\n",
              "      <td>@mopedronin bullet train from tokyo    the gf ...</td>\n",
              "      <td>love</td>\n",
              "    </tr>\n",
              "  </tbody>\n",
              "</table>\n",
              "<p>40000 rows × 2 columns</p>\n",
              "</div>"
            ],
            "text/plain": [
              "                                                 content   sentiment\n",
              "0      @tiffanylue i know  i was listenin to bad habi...       empty\n",
              "1      Layin n bed with a headache  ughhhh...waitin o...     sadness\n",
              "2                    Funeral ceremony...gloomy friday...     sadness\n",
              "3                   wants to hang out with friends SOON!  enthusiasm\n",
              "4      @dannycastillo We want to trade with someone w...     neutral\n",
              "...                                                  ...         ...\n",
              "39995                                   @JohnLloydTaylor     neutral\n",
              "39996                     Happy Mothers Day  All my love        love\n",
              "39997  Happy Mother's Day to all the mommies out ther...        love\n",
              "39998  @niariley WASSUP BEAUTIFUL!!! FOLLOW ME!!  PEE...   happiness\n",
              "39999  @mopedronin bullet train from tokyo    the gf ...        love\n",
              "\n",
              "[40000 rows x 2 columns]"
            ]
          },
          "metadata": {
            "tags": []
          },
          "execution_count": 4
        }
      ]
    },
    {
      "cell_type": "code",
      "metadata": {
        "colab": {
          "base_uri": "https://localhost:8080/",
          "height": 419
        },
        "id": "EEiaEberi5dG",
        "outputId": "c9bf82a5-1b7b-4ca6-ccac-4f3e1efa5ec5"
      },
      "source": [
        "df_concat = df.rename(columns = {'content': 'Text', 'sentiment': 'Emotion'})\n",
        "df_concat"
      ],
      "execution_count": 5,
      "outputs": [
        {
          "output_type": "execute_result",
          "data": {
            "text/html": [
              "<div>\n",
              "<style scoped>\n",
              "    .dataframe tbody tr th:only-of-type {\n",
              "        vertical-align: middle;\n",
              "    }\n",
              "\n",
              "    .dataframe tbody tr th {\n",
              "        vertical-align: top;\n",
              "    }\n",
              "\n",
              "    .dataframe thead th {\n",
              "        text-align: right;\n",
              "    }\n",
              "</style>\n",
              "<table border=\"1\" class=\"dataframe\">\n",
              "  <thead>\n",
              "    <tr style=\"text-align: right;\">\n",
              "      <th></th>\n",
              "      <th>Text</th>\n",
              "      <th>Emotion</th>\n",
              "    </tr>\n",
              "  </thead>\n",
              "  <tbody>\n",
              "    <tr>\n",
              "      <th>0</th>\n",
              "      <td>@tiffanylue i know  i was listenin to bad habi...</td>\n",
              "      <td>empty</td>\n",
              "    </tr>\n",
              "    <tr>\n",
              "      <th>1</th>\n",
              "      <td>Layin n bed with a headache  ughhhh...waitin o...</td>\n",
              "      <td>sadness</td>\n",
              "    </tr>\n",
              "    <tr>\n",
              "      <th>2</th>\n",
              "      <td>Funeral ceremony...gloomy friday...</td>\n",
              "      <td>sadness</td>\n",
              "    </tr>\n",
              "    <tr>\n",
              "      <th>3</th>\n",
              "      <td>wants to hang out with friends SOON!</td>\n",
              "      <td>enthusiasm</td>\n",
              "    </tr>\n",
              "    <tr>\n",
              "      <th>4</th>\n",
              "      <td>@dannycastillo We want to trade with someone w...</td>\n",
              "      <td>neutral</td>\n",
              "    </tr>\n",
              "    <tr>\n",
              "      <th>...</th>\n",
              "      <td>...</td>\n",
              "      <td>...</td>\n",
              "    </tr>\n",
              "    <tr>\n",
              "      <th>39995</th>\n",
              "      <td>@JohnLloydTaylor</td>\n",
              "      <td>neutral</td>\n",
              "    </tr>\n",
              "    <tr>\n",
              "      <th>39996</th>\n",
              "      <td>Happy Mothers Day  All my love</td>\n",
              "      <td>love</td>\n",
              "    </tr>\n",
              "    <tr>\n",
              "      <th>39997</th>\n",
              "      <td>Happy Mother's Day to all the mommies out ther...</td>\n",
              "      <td>love</td>\n",
              "    </tr>\n",
              "    <tr>\n",
              "      <th>39998</th>\n",
              "      <td>@niariley WASSUP BEAUTIFUL!!! FOLLOW ME!!  PEE...</td>\n",
              "      <td>happiness</td>\n",
              "    </tr>\n",
              "    <tr>\n",
              "      <th>39999</th>\n",
              "      <td>@mopedronin bullet train from tokyo    the gf ...</td>\n",
              "      <td>love</td>\n",
              "    </tr>\n",
              "  </tbody>\n",
              "</table>\n",
              "<p>40000 rows × 2 columns</p>\n",
              "</div>"
            ],
            "text/plain": [
              "                                                    Text     Emotion\n",
              "0      @tiffanylue i know  i was listenin to bad habi...       empty\n",
              "1      Layin n bed with a headache  ughhhh...waitin o...     sadness\n",
              "2                    Funeral ceremony...gloomy friday...     sadness\n",
              "3                   wants to hang out with friends SOON!  enthusiasm\n",
              "4      @dannycastillo We want to trade with someone w...     neutral\n",
              "...                                                  ...         ...\n",
              "39995                                   @JohnLloydTaylor     neutral\n",
              "39996                     Happy Mothers Day  All my love        love\n",
              "39997  Happy Mother's Day to all the mommies out ther...        love\n",
              "39998  @niariley WASSUP BEAUTIFUL!!! FOLLOW ME!!  PEE...   happiness\n",
              "39999  @mopedronin bullet train from tokyo    the gf ...        love\n",
              "\n",
              "[40000 rows x 2 columns]"
            ]
          },
          "metadata": {
            "tags": []
          },
          "execution_count": 5
        }
      ]
    },
    {
      "cell_type": "code",
      "metadata": {
        "colab": {
          "base_uri": "https://localhost:8080/",
          "height": 419
        },
        "id": "LE9iWB6Xi5dG",
        "outputId": "14790ae2-8ffe-4a6d-a29f-66f379cb53fa"
      },
      "source": [
        "data_concat = pd.concat([df1,df_concat],ignore_index=True)\n",
        "data_concat"
      ],
      "execution_count": 6,
      "outputs": [
        {
          "output_type": "execute_result",
          "data": {
            "text/html": [
              "<div>\n",
              "<style scoped>\n",
              "    .dataframe tbody tr th:only-of-type {\n",
              "        vertical-align: middle;\n",
              "    }\n",
              "\n",
              "    .dataframe tbody tr th {\n",
              "        vertical-align: top;\n",
              "    }\n",
              "\n",
              "    .dataframe thead th {\n",
              "        text-align: right;\n",
              "    }\n",
              "</style>\n",
              "<table border=\"1\" class=\"dataframe\">\n",
              "  <thead>\n",
              "    <tr style=\"text-align: right;\">\n",
              "      <th></th>\n",
              "      <th>Text</th>\n",
              "      <th>Emotion</th>\n",
              "    </tr>\n",
              "  </thead>\n",
              "  <tbody>\n",
              "    <tr>\n",
              "      <th>0</th>\n",
              "      <td>i didnt feel humiliated</td>\n",
              "      <td>sadness</td>\n",
              "    </tr>\n",
              "    <tr>\n",
              "      <th>1</th>\n",
              "      <td>i can go from feeling so hopeless to so damned...</td>\n",
              "      <td>sadness</td>\n",
              "    </tr>\n",
              "    <tr>\n",
              "      <th>2</th>\n",
              "      <td>im grabbing a minute to post i feel greedy wrong</td>\n",
              "      <td>anger</td>\n",
              "    </tr>\n",
              "    <tr>\n",
              "      <th>3</th>\n",
              "      <td>i am ever feeling nostalgic about the fireplac...</td>\n",
              "      <td>love</td>\n",
              "    </tr>\n",
              "    <tr>\n",
              "      <th>4</th>\n",
              "      <td>i am feeling grouchy</td>\n",
              "      <td>anger</td>\n",
              "    </tr>\n",
              "    <tr>\n",
              "      <th>...</th>\n",
              "      <td>...</td>\n",
              "      <td>...</td>\n",
              "    </tr>\n",
              "    <tr>\n",
              "      <th>61454</th>\n",
              "      <td>@JohnLloydTaylor</td>\n",
              "      <td>neutral</td>\n",
              "    </tr>\n",
              "    <tr>\n",
              "      <th>61455</th>\n",
              "      <td>Happy Mothers Day  All my love</td>\n",
              "      <td>love</td>\n",
              "    </tr>\n",
              "    <tr>\n",
              "      <th>61456</th>\n",
              "      <td>Happy Mother's Day to all the mommies out ther...</td>\n",
              "      <td>love</td>\n",
              "    </tr>\n",
              "    <tr>\n",
              "      <th>61457</th>\n",
              "      <td>@niariley WASSUP BEAUTIFUL!!! FOLLOW ME!!  PEE...</td>\n",
              "      <td>happiness</td>\n",
              "    </tr>\n",
              "    <tr>\n",
              "      <th>61458</th>\n",
              "      <td>@mopedronin bullet train from tokyo    the gf ...</td>\n",
              "      <td>love</td>\n",
              "    </tr>\n",
              "  </tbody>\n",
              "</table>\n",
              "<p>61459 rows × 2 columns</p>\n",
              "</div>"
            ],
            "text/plain": [
              "                                                    Text    Emotion\n",
              "0                                i didnt feel humiliated    sadness\n",
              "1      i can go from feeling so hopeless to so damned...    sadness\n",
              "2       im grabbing a minute to post i feel greedy wrong      anger\n",
              "3      i am ever feeling nostalgic about the fireplac...       love\n",
              "4                                   i am feeling grouchy      anger\n",
              "...                                                  ...        ...\n",
              "61454                                   @JohnLloydTaylor    neutral\n",
              "61455                     Happy Mothers Day  All my love       love\n",
              "61456  Happy Mother's Day to all the mommies out ther...       love\n",
              "61457  @niariley WASSUP BEAUTIFUL!!! FOLLOW ME!!  PEE...  happiness\n",
              "61458  @mopedronin bullet train from tokyo    the gf ...       love\n",
              "\n",
              "[61459 rows x 2 columns]"
            ]
          },
          "metadata": {
            "tags": []
          },
          "execution_count": 6
        }
      ]
    },
    {
      "cell_type": "code",
      "metadata": {
        "colab": {
          "base_uri": "https://localhost:8080/"
        },
        "id": "9KoUa2nJi5dH",
        "outputId": "ee31f2de-34e4-4d2d-d2dc-4d5d7f8f1463"
      },
      "source": [
        "data_concat.info()"
      ],
      "execution_count": 7,
      "outputs": [
        {
          "output_type": "stream",
          "text": [
            "<class 'pandas.core.frame.DataFrame'>\n",
            "RangeIndex: 61459 entries, 0 to 61458\n",
            "Data columns (total 2 columns):\n",
            " #   Column   Non-Null Count  Dtype \n",
            "---  ------   --------------  ----- \n",
            " 0   Text     61459 non-null  object\n",
            " 1   Emotion  61459 non-null  object\n",
            "dtypes: object(2)\n",
            "memory usage: 960.4+ KB\n"
          ],
          "name": "stdout"
        }
      ]
    },
    {
      "cell_type": "code",
      "metadata": {
        "colab": {
          "base_uri": "https://localhost:8080/"
        },
        "id": "Rfv6pf79i5dI",
        "outputId": "a1f32e13-39cc-467d-becb-82af2b1bc656"
      },
      "source": [
        "data_concat.loc[1]"
      ],
      "execution_count": 8,
      "outputs": [
        {
          "output_type": "execute_result",
          "data": {
            "text/plain": [
              "Text       i can go from feeling so hopeless to so damned...\n",
              "Emotion                                              sadness\n",
              "Name: 1, dtype: object"
            ]
          },
          "metadata": {
            "tags": []
          },
          "execution_count": 8
        }
      ]
    },
    {
      "cell_type": "code",
      "metadata": {
        "colab": {
          "base_uri": "https://localhost:8080/",
          "height": 204
        },
        "id": "tRQ5vXQGi5dI",
        "outputId": "349baaec-d54b-4450-842a-07c634e9ed44"
      },
      "source": [
        "data_concat.Emotion = data_concat.Emotion.replace(['happiness','happy','sadness','anger','worry','fear','love','surprise','fun','relief'\n",
        "                                     ,'empty','enthusiasm','boredom','hate','neutral']\n",
        "                                    ,[1,1,2,3,4,4,5,6,7,8,9,10,11,12,13])\n",
        "data_concat.head(5)"
      ],
      "execution_count": 9,
      "outputs": [
        {
          "output_type": "execute_result",
          "data": {
            "text/html": [
              "<div>\n",
              "<style scoped>\n",
              "    .dataframe tbody tr th:only-of-type {\n",
              "        vertical-align: middle;\n",
              "    }\n",
              "\n",
              "    .dataframe tbody tr th {\n",
              "        vertical-align: top;\n",
              "    }\n",
              "\n",
              "    .dataframe thead th {\n",
              "        text-align: right;\n",
              "    }\n",
              "</style>\n",
              "<table border=\"1\" class=\"dataframe\">\n",
              "  <thead>\n",
              "    <tr style=\"text-align: right;\">\n",
              "      <th></th>\n",
              "      <th>Text</th>\n",
              "      <th>Emotion</th>\n",
              "    </tr>\n",
              "  </thead>\n",
              "  <tbody>\n",
              "    <tr>\n",
              "      <th>0</th>\n",
              "      <td>i didnt feel humiliated</td>\n",
              "      <td>2</td>\n",
              "    </tr>\n",
              "    <tr>\n",
              "      <th>1</th>\n",
              "      <td>i can go from feeling so hopeless to so damned...</td>\n",
              "      <td>2</td>\n",
              "    </tr>\n",
              "    <tr>\n",
              "      <th>2</th>\n",
              "      <td>im grabbing a minute to post i feel greedy wrong</td>\n",
              "      <td>3</td>\n",
              "    </tr>\n",
              "    <tr>\n",
              "      <th>3</th>\n",
              "      <td>i am ever feeling nostalgic about the fireplac...</td>\n",
              "      <td>5</td>\n",
              "    </tr>\n",
              "    <tr>\n",
              "      <th>4</th>\n",
              "      <td>i am feeling grouchy</td>\n",
              "      <td>3</td>\n",
              "    </tr>\n",
              "  </tbody>\n",
              "</table>\n",
              "</div>"
            ],
            "text/plain": [
              "                                                Text  Emotion\n",
              "0                            i didnt feel humiliated        2\n",
              "1  i can go from feeling so hopeless to so damned...        2\n",
              "2   im grabbing a minute to post i feel greedy wrong        3\n",
              "3  i am ever feeling nostalgic about the fireplac...        5\n",
              "4                               i am feeling grouchy        3"
            ]
          },
          "metadata": {
            "tags": []
          },
          "execution_count": 9
        }
      ]
    },
    {
      "cell_type": "markdown",
      "metadata": {
        "id": "SmZ6UkGgjJSp"
      },
      "source": [
        "# Pipelines (ngrame_range=(1,2), stopwords)"
      ]
    },
    {
      "cell_type": "code",
      "metadata": {
        "colab": {
          "base_uri": "https://localhost:8080/",
          "height": 496
        },
        "id": "D9itf-jMi5dJ",
        "outputId": "2ed2d1d6-53ea-49f2-b4e5-1efb3d823f6c"
      },
      "source": [
        "from time import time\n",
        "from collections import defaultdict\n",
        "import numpy as np\n",
        "import pandas as pd\n",
        "import matplotlib.pyplot as plt\n",
        "%matplotlib inline\n",
        "\n",
        "from sklearn.feature_extraction.text import CountVectorizer, TfidfVectorizer, TfidfTransformer\n",
        "from sklearn.model_selection import ShuffleSplit\n",
        "from sklearn.pipeline import Pipeline, FeatureUnion\n",
        "from sklearn.linear_model import SGDClassifier, LogisticRegression, LogisticRegressionCV\n",
        "from sklearn.neighbors import KNeighborsClassifier\n",
        "from sklearn import tree\n",
        "from sklearn import svm\n",
        "from sklearn.svm import SVC, LinearSVC\n",
        "from sklearn.naive_bayes import MultinomialNB, CategoricalNB, ComplementNB, BernoulliNB\n",
        "from sklearn.decomposition import FastICA, KernelPCA, TruncatedSVD, SparsePCA, NMF, FactorAnalysis, LatentDirichletAllocation\n",
        "from sklearn.metrics import precision_score, recall_score, accuracy_score,f1_score\n",
        "import nltk\n",
        "nltk.download('stopwords')\n",
        "from nltk.corpus import stopwords\n",
        "\n",
        "\n",
        "corpus = data_concat.Text\n",
        "targets = data_concat.Emotion\n",
        "\n",
        "stopword = stopwords.words('english')\n",
        "\n",
        "pipe0 = Pipeline([\n",
        "    ('tfidf', TfidfVectorizer()),\n",
        "    ('logit', LogisticRegression()),\n",
        "])\n",
        "pipe1 = Pipeline([\n",
        "    ('tfidf', TfidfVectorizer()),\n",
        "    ('svm', svm.SVC(kernel='poly')),\n",
        "])\n",
        "pipe2 = Pipeline([\n",
        "    ('tfidf', TfidfVectorizer()),\n",
        "    ('KNN', KNeighborsClassifier()),\n",
        "])\n",
        "pipe3 = Pipeline([\n",
        "    ('tfidf', TfidfVectorizer()),\n",
        "    ('svml', LinearSVC()),\n",
        "])\n",
        "pipe4 = Pipeline([\n",
        "    ('vect', CountVectorizer(stop_words=stopword)),\n",
        "    ('decision_tree', tree.DecisionTreeClassifier()),\n",
        "])\n",
        "parameters = {\n",
        "    'stop_words': stopword,\n",
        "    'ngram_range': (1,2)\n",
        "    }\n",
        "\n",
        "def run_pipes(pipes, splits=5, test_size=0.2):  \n",
        "    res = defaultdict(list)\n",
        "    spliter = ShuffleSplit(n_splits=splits, test_size=test_size, random_state=0)\n",
        "    for idx_train, idx_test in spliter.split(corpus):\n",
        "        for pipe in pipes:\n",
        "            # name of the model\n",
        "            name = \"-\".join([x[0] for x in pipe.steps])\n",
        "            \n",
        "            # extract datasets\n",
        "            X_train = corpus[idx_train]\n",
        "            X_test = corpus[idx_test]\n",
        "            y_train = targets[idx_train]\n",
        "            y_test = targets[idx_test]\n",
        "            \n",
        "            # Learn\n",
        "            start = time()\n",
        "            pipe.fit(X_train, y_train)\n",
        "            fit_time = time() - start\n",
        "            \n",
        "            # predict and save results\n",
        "            y = pipe.predict(X_test)\n",
        "            res[name].append([\n",
        "                fit_time,\n",
        "                precision_score(y_test, y, average='macro'),\n",
        "                pipe.score(X_test, y_test),\n",
        "                recall_score(y_test, y, average='macro'),\n",
        "                f1_score(y_test, y, average='macro')\n",
        "            ])\n",
        "    return res\n",
        "\n",
        "def print_table(res):\n",
        "    # Compute mean and std\n",
        "    final = {}\n",
        "    for model in res:\n",
        "        arr = np.array(res[model])\n",
        "        final[model] = {\n",
        "            \"time\" : arr[:, 0].mean(),\n",
        "            \"precision\": arr[:, 1].round(3),\n",
        "            \"score\": arr[:, 2].round(3),\n",
        "            \"recall\": arr[:, 3].round(3),\n",
        "            \"f1_score\": arr[:,4].round(3)\n",
        "          \n",
        "        }\n",
        "\n",
        "    D_concat = pd.DataFrame.from_dict(final, orient=\"index\").round(3)\n",
        "    #print(D)\n",
        "    return D_concat\n",
        "\n",
        "\n",
        "\n",
        "res_concat = run_pipes([pipe0, pipe1, pipe2, pipe3, pipe4], splits=1)\n",
        "print_table(res_concat)"
      ],
      "execution_count": 13,
      "outputs": [
        {
          "output_type": "stream",
          "text": [
            "[nltk_data] Downloading package stopwords to /root/nltk_data...\n",
            "[nltk_data]   Unzipping corpora/stopwords.zip.\n"
          ],
          "name": "stdout"
        },
        {
          "output_type": "stream",
          "text": [
            "/usr/local/lib/python3.6/dist-packages/sklearn/linear_model/_logistic.py:940: ConvergenceWarning: lbfgs failed to converge (status=1):\n",
            "STOP: TOTAL NO. of ITERATIONS REACHED LIMIT.\n",
            "\n",
            "Increase the number of iterations (max_iter) or scale the data as shown in:\n",
            "    https://scikit-learn.org/stable/modules/preprocessing.html\n",
            "Please also refer to the documentation for alternative solver options:\n",
            "    https://scikit-learn.org/stable/modules/linear_model.html#logistic-regression\n",
            "  extra_warning_msg=_LOGISTIC_SOLVER_CONVERGENCE_MSG)\n",
            "/usr/local/lib/python3.6/dist-packages/sklearn/metrics/_classification.py:1272: UndefinedMetricWarning: Precision is ill-defined and being set to 0.0 in labels with no predicted samples. Use `zero_division` parameter to control this behavior.\n",
            "  _warn_prf(average, modifier, msg_start, len(result))\n",
            "/usr/local/lib/python3.6/dist-packages/sklearn/metrics/_classification.py:1272: UndefinedMetricWarning: Precision is ill-defined and being set to 0.0 in labels with no predicted samples. Use `zero_division` parameter to control this behavior.\n",
            "  _warn_prf(average, modifier, msg_start, len(result))\n",
            "/usr/local/lib/python3.6/dist-packages/sklearn/metrics/_classification.py:1272: UndefinedMetricWarning: Precision is ill-defined and being set to 0.0 in labels with no predicted samples. Use `zero_division` parameter to control this behavior.\n",
            "  _warn_prf(average, modifier, msg_start, len(result))\n"
          ],
          "name": "stderr"
        },
        {
          "output_type": "execute_result",
          "data": {
            "text/html": [
              "<div>\n",
              "<style scoped>\n",
              "    .dataframe tbody tr th:only-of-type {\n",
              "        vertical-align: middle;\n",
              "    }\n",
              "\n",
              "    .dataframe tbody tr th {\n",
              "        vertical-align: top;\n",
              "    }\n",
              "\n",
              "    .dataframe thead th {\n",
              "        text-align: right;\n",
              "    }\n",
              "</style>\n",
              "<table border=\"1\" class=\"dataframe\">\n",
              "  <thead>\n",
              "    <tr style=\"text-align: right;\">\n",
              "      <th></th>\n",
              "      <th>time</th>\n",
              "      <th>precision</th>\n",
              "      <th>score</th>\n",
              "      <th>recall</th>\n",
              "      <th>f1_score</th>\n",
              "    </tr>\n",
              "  </thead>\n",
              "  <tbody>\n",
              "    <tr>\n",
              "      <th>tfidf-logit</th>\n",
              "      <td>20.423</td>\n",
              "      <td>[0.372]</td>\n",
              "      <td>[0.516]</td>\n",
              "      <td>[0.295]</td>\n",
              "      <td>[0.301]</td>\n",
              "    </tr>\n",
              "    <tr>\n",
              "      <th>tfidf-svm</th>\n",
              "      <td>2561.826</td>\n",
              "      <td>[0.323]</td>\n",
              "      <td>[0.425]</td>\n",
              "      <td>[0.192]</td>\n",
              "      <td>[0.182]</td>\n",
              "    </tr>\n",
              "    <tr>\n",
              "      <th>tfidf-KNN</th>\n",
              "      <td>0.776</td>\n",
              "      <td>[0.337]</td>\n",
              "      <td>[0.352]</td>\n",
              "      <td>[0.205]</td>\n",
              "      <td>[0.212]</td>\n",
              "    </tr>\n",
              "    <tr>\n",
              "      <th>tfidf-svml</th>\n",
              "      <td>3.203</td>\n",
              "      <td>[0.336]</td>\n",
              "      <td>[0.507]</td>\n",
              "      <td>[0.312]</td>\n",
              "      <td>[0.315]</td>\n",
              "    </tr>\n",
              "    <tr>\n",
              "      <th>vect-decision_tree</th>\n",
              "      <td>40.439</td>\n",
              "      <td>[0.315]</td>\n",
              "      <td>[0.471]</td>\n",
              "      <td>[0.302]</td>\n",
              "      <td>[0.305]</td>\n",
              "    </tr>\n",
              "  </tbody>\n",
              "</table>\n",
              "</div>"
            ],
            "text/plain": [
              "                        time precision    score   recall f1_score\n",
              "tfidf-logit           20.423   [0.372]  [0.516]  [0.295]  [0.301]\n",
              "tfidf-svm           2561.826   [0.323]  [0.425]  [0.192]  [0.182]\n",
              "tfidf-KNN              0.776   [0.337]  [0.352]  [0.205]  [0.212]\n",
              "tfidf-svml             3.203   [0.336]  [0.507]  [0.312]  [0.315]\n",
              "vect-decision_tree    40.439   [0.315]  [0.471]  [0.302]  [0.305]"
            ]
          },
          "metadata": {
            "tags": []
          },
          "execution_count": 13
        }
      ]
    },
    {
      "cell_type": "markdown",
      "metadata": {
        "id": "BZhq4n09lL6F"
      },
      "source": [
        "# Pipelines (stopwords)"
      ]
    },
    {
      "cell_type": "code",
      "metadata": {
        "colab": {
          "base_uri": "https://localhost:8080/",
          "height": 496
        },
        "id": "qsRPsuGNlkca",
        "outputId": "70043b73-4b27-4e94-d888-d555d5fe6474"
      },
      "source": [
        "from time import time\n",
        "from collections import defaultdict\n",
        "import numpy as np\n",
        "import pandas as pd\n",
        "import matplotlib.pyplot as plt\n",
        "%matplotlib inline\n",
        "\n",
        "from sklearn.feature_extraction.text import CountVectorizer, TfidfVectorizer, TfidfTransformer\n",
        "from sklearn.model_selection import ShuffleSplit\n",
        "from sklearn.pipeline import Pipeline, FeatureUnion\n",
        "from sklearn.linear_model import SGDClassifier, LogisticRegression, LogisticRegressionCV\n",
        "from sklearn.neighbors import KNeighborsClassifier\n",
        "from sklearn import tree\n",
        "from sklearn import svm\n",
        "from sklearn.svm import SVC, LinearSVC\n",
        "from sklearn.naive_bayes import MultinomialNB, CategoricalNB, ComplementNB, BernoulliNB\n",
        "from sklearn.decomposition import FastICA, KernelPCA, TruncatedSVD, SparsePCA, NMF, FactorAnalysis, LatentDirichletAllocation\n",
        "from sklearn.metrics import precision_score, recall_score, accuracy_score,f1_score\n",
        "import nltk\n",
        "nltk.download('stopwords')\n",
        "from nltk.corpus import stopwords\n",
        "\n",
        "\n",
        "corpus = data_concat.Text\n",
        "targets = data_concat.Emotion\n",
        "\n",
        "stopword = stopwords.words('english')\n",
        "\n",
        "pipe0 = Pipeline([\n",
        "    ('tfidf', TfidfVectorizer()),\n",
        "    ('logit', LogisticRegression()),\n",
        "])\n",
        "pipe1 = Pipeline([\n",
        "    ('tfidf', TfidfVectorizer()),\n",
        "    ('svm', svm.SVC(kernel='poly')),\n",
        "])\n",
        "pipe2 = Pipeline([\n",
        "    ('tfidf', TfidfVectorizer()),\n",
        "    ('KNN', KNeighborsClassifier()),\n",
        "])\n",
        "pipe3 = Pipeline([\n",
        "    ('tfidf', TfidfVectorizer()),\n",
        "    ('svml', LinearSVC()),\n",
        "])\n",
        "pipe4 = Pipeline([\n",
        "    ('vect', CountVectorizer(stop_words=stopword)),\n",
        "    ('decision_tree', tree.DecisionTreeClassifier()),\n",
        "])\n",
        "parameters = {\n",
        "    'stop_words': stopword\n",
        "    }\n",
        "\n",
        "def run_pipes(pipes, splits=5, test_size=0.2):  \n",
        "    res = defaultdict(list)\n",
        "    spliter = ShuffleSplit(n_splits=splits, test_size=test_size, random_state=0)\n",
        "    for idx_train, idx_test in spliter.split(corpus):\n",
        "        for pipe in pipes:\n",
        "            # name of the model\n",
        "            name = \"-\".join([x[0] for x in pipe.steps])\n",
        "            \n",
        "            # extract datasets\n",
        "            X_train = corpus[idx_train]\n",
        "            X_test = corpus[idx_test]\n",
        "            y_train = targets[idx_train]\n",
        "            y_test = targets[idx_test]\n",
        "            \n",
        "            # Learn\n",
        "            start = time()\n",
        "            pipe.fit(X_train, y_train)\n",
        "            fit_time = time() - start\n",
        "            \n",
        "            # predict and save results\n",
        "            y = pipe.predict(X_test)\n",
        "            res[name].append([\n",
        "                fit_time,\n",
        "                precision_score(y_test, y, average='macro'),\n",
        "                pipe.score(X_test, y_test),\n",
        "                recall_score(y_test, y, average='macro'),\n",
        "                f1_score(y_test, y, average='macro')\n",
        "            ])\n",
        "    return res\n",
        "\n",
        "def print_table(res):\n",
        "    # Compute mean and std\n",
        "    final = {}\n",
        "    for model in res:\n",
        "        arr = np.array(res[model])\n",
        "        final[model] = {\n",
        "            \"time\" : arr[:, 0].mean(),\n",
        "            \"precision\": arr[:, 1].round(3),\n",
        "            \"score\": arr[:, 2].round(3),\n",
        "            \"recall\": arr[:, 3].round(3),\n",
        "            \"f1_score\": arr[:,4].round(3)\n",
        "          \n",
        "        }\n",
        "\n",
        "    D_concat1 = pd.DataFrame.from_dict(final, orient=\"index\").round(3)\n",
        "    #print(D)\n",
        "    return D_concat1\n",
        "\n",
        "\n",
        "\n",
        "res_concat1 = run_pipes([pipe0, pipe1, pipe2, pipe3, pipe4], splits=1)\n",
        "print_table(res_concat1)"
      ],
      "execution_count": 14,
      "outputs": [
        {
          "output_type": "stream",
          "text": [
            "[nltk_data] Downloading package stopwords to /root/nltk_data...\n",
            "[nltk_data]   Package stopwords is already up-to-date!\n"
          ],
          "name": "stdout"
        },
        {
          "output_type": "stream",
          "text": [
            "/usr/local/lib/python3.6/dist-packages/sklearn/linear_model/_logistic.py:940: ConvergenceWarning: lbfgs failed to converge (status=1):\n",
            "STOP: TOTAL NO. of ITERATIONS REACHED LIMIT.\n",
            "\n",
            "Increase the number of iterations (max_iter) or scale the data as shown in:\n",
            "    https://scikit-learn.org/stable/modules/preprocessing.html\n",
            "Please also refer to the documentation for alternative solver options:\n",
            "    https://scikit-learn.org/stable/modules/linear_model.html#logistic-regression\n",
            "  extra_warning_msg=_LOGISTIC_SOLVER_CONVERGENCE_MSG)\n",
            "/usr/local/lib/python3.6/dist-packages/sklearn/metrics/_classification.py:1272: UndefinedMetricWarning: Precision is ill-defined and being set to 0.0 in labels with no predicted samples. Use `zero_division` parameter to control this behavior.\n",
            "  _warn_prf(average, modifier, msg_start, len(result))\n",
            "/usr/local/lib/python3.6/dist-packages/sklearn/metrics/_classification.py:1272: UndefinedMetricWarning: Precision is ill-defined and being set to 0.0 in labels with no predicted samples. Use `zero_division` parameter to control this behavior.\n",
            "  _warn_prf(average, modifier, msg_start, len(result))\n",
            "/usr/local/lib/python3.6/dist-packages/sklearn/metrics/_classification.py:1272: UndefinedMetricWarning: Precision is ill-defined and being set to 0.0 in labels with no predicted samples. Use `zero_division` parameter to control this behavior.\n",
            "  _warn_prf(average, modifier, msg_start, len(result))\n"
          ],
          "name": "stderr"
        },
        {
          "output_type": "execute_result",
          "data": {
            "text/html": [
              "<div>\n",
              "<style scoped>\n",
              "    .dataframe tbody tr th:only-of-type {\n",
              "        vertical-align: middle;\n",
              "    }\n",
              "\n",
              "    .dataframe tbody tr th {\n",
              "        vertical-align: top;\n",
              "    }\n",
              "\n",
              "    .dataframe thead th {\n",
              "        text-align: right;\n",
              "    }\n",
              "</style>\n",
              "<table border=\"1\" class=\"dataframe\">\n",
              "  <thead>\n",
              "    <tr style=\"text-align: right;\">\n",
              "      <th></th>\n",
              "      <th>time</th>\n",
              "      <th>precision</th>\n",
              "      <th>score</th>\n",
              "      <th>recall</th>\n",
              "      <th>f1_score</th>\n",
              "    </tr>\n",
              "  </thead>\n",
              "  <tbody>\n",
              "    <tr>\n",
              "      <th>tfidf-logit</th>\n",
              "      <td>24.954</td>\n",
              "      <td>[0.372]</td>\n",
              "      <td>[0.516]</td>\n",
              "      <td>[0.295]</td>\n",
              "      <td>[0.301]</td>\n",
              "    </tr>\n",
              "    <tr>\n",
              "      <th>tfidf-svm</th>\n",
              "      <td>2689.113</td>\n",
              "      <td>[0.323]</td>\n",
              "      <td>[0.425]</td>\n",
              "      <td>[0.192]</td>\n",
              "      <td>[0.182]</td>\n",
              "    </tr>\n",
              "    <tr>\n",
              "      <th>tfidf-KNN</th>\n",
              "      <td>0.838</td>\n",
              "      <td>[0.337]</td>\n",
              "      <td>[0.352]</td>\n",
              "      <td>[0.205]</td>\n",
              "      <td>[0.212]</td>\n",
              "    </tr>\n",
              "    <tr>\n",
              "      <th>tfidf-svml</th>\n",
              "      <td>4.300</td>\n",
              "      <td>[0.336]</td>\n",
              "      <td>[0.507]</td>\n",
              "      <td>[0.312]</td>\n",
              "      <td>[0.315]</td>\n",
              "    </tr>\n",
              "    <tr>\n",
              "      <th>vect-decision_tree</th>\n",
              "      <td>41.762</td>\n",
              "      <td>[0.317]</td>\n",
              "      <td>[0.472]</td>\n",
              "      <td>[0.303]</td>\n",
              "      <td>[0.306]</td>\n",
              "    </tr>\n",
              "  </tbody>\n",
              "</table>\n",
              "</div>"
            ],
            "text/plain": [
              "                        time precision    score   recall f1_score\n",
              "tfidf-logit           24.954   [0.372]  [0.516]  [0.295]  [0.301]\n",
              "tfidf-svm           2689.113   [0.323]  [0.425]  [0.192]  [0.182]\n",
              "tfidf-KNN              0.838   [0.337]  [0.352]  [0.205]  [0.212]\n",
              "tfidf-svml             4.300   [0.336]  [0.507]  [0.312]  [0.315]\n",
              "vect-decision_tree    41.762   [0.317]  [0.472]  [0.303]  [0.306]"
            ]
          },
          "metadata": {
            "tags": []
          },
          "execution_count": 14
        }
      ]
    },
    {
      "cell_type": "markdown",
      "metadata": {
        "id": "kSMh6vkllXtM"
      },
      "source": [
        "# Pipelines(function,stopwords)"
      ]
    },
    {
      "cell_type": "code",
      "metadata": {
        "colab": {
          "base_uri": "https://localhost:8080/"
        },
        "id": "HpV5ww3Gm2XK",
        "outputId": "bdf18b53-69da-4ff7-8ec1-0839cb00f5eb"
      },
      "source": [
        "# function lemmatization + stemming\n",
        "import nltk\n",
        "nltk.download('wordnet')\n",
        "from nltk import WordNetLemmatizer\n",
        "from nltk.stem import PorterStemmer,LancasterStemmer\n",
        "\n",
        "z = \"The girls wanted to played\"\n",
        "\n",
        "\n",
        "def lem_stem(z):\n",
        "    lem =[]\n",
        "    stemming = []\n",
        "    for each in z.split() :\n",
        "        lemma = WordNetLemmatizer()\n",
        "        lem=[lemma.lemmatize(word)for word in z.split()]\n",
        "    # Stemming\n",
        "    for item in lem:\n",
        "        b = PorterStemmer().stem(item)\n",
        "        # = LancasterStemmer().stem(b)\n",
        "        stemming.append(b)\n",
        "    return stemming\n",
        "print(lem_stem(z))"
      ],
      "execution_count": 16,
      "outputs": [
        {
          "output_type": "stream",
          "text": [
            "[nltk_data] Downloading package wordnet to /root/nltk_data...\n",
            "[nltk_data]   Unzipping corpora/wordnet.zip.\n",
            "['the', 'girl', 'want', 'to', 'play']\n"
          ],
          "name": "stdout"
        }
      ]
    },
    {
      "cell_type": "code",
      "metadata": {
        "colab": {
          "base_uri": "https://localhost:8080/",
          "height": 496
        },
        "id": "VX21G9n7luXt",
        "outputId": "8bc11924-83d3-423f-c813-0a85beb3e50c"
      },
      "source": [
        "from time import time\n",
        "from collections import defaultdict\n",
        "import numpy as np\n",
        "import pandas as pd\n",
        "import matplotlib.pyplot as plt\n",
        "%matplotlib inline\n",
        "\n",
        "from sklearn.feature_extraction.text import CountVectorizer, TfidfVectorizer, TfidfTransformer\n",
        "from sklearn.model_selection import ShuffleSplit\n",
        "from sklearn.pipeline import Pipeline, FeatureUnion\n",
        "from sklearn.linear_model import SGDClassifier, LogisticRegression, LogisticRegressionCV\n",
        "from sklearn.neighbors import KNeighborsClassifier\n",
        "from sklearn import tree\n",
        "from sklearn import svm\n",
        "from sklearn.svm import SVC, LinearSVC\n",
        "from sklearn.naive_bayes import MultinomialNB, CategoricalNB, ComplementNB, BernoulliNB\n",
        "from sklearn.decomposition import FastICA, KernelPCA, TruncatedSVD, SparsePCA, NMF, FactorAnalysis, LatentDirichletAllocation\n",
        "from sklearn.metrics import precision_score, recall_score, accuracy_score,f1_score\n",
        "import nltk\n",
        "nltk.download('stopwords')\n",
        "from nltk.corpus import stopwords\n",
        "\n",
        "\n",
        "corpus = data_concat.Text\n",
        "targets = data_concat.Emotion\n",
        "\n",
        "stopword = stopwords.words('english')\n",
        "\n",
        "pipe0 = Pipeline([\n",
        "    ('tfidf', TfidfVectorizer()),\n",
        "    ('logit', LogisticRegression()),\n",
        "])\n",
        "pipe1 = Pipeline([\n",
        "    ('tfidf', TfidfVectorizer()),\n",
        "    ('svm', svm.SVC(kernel='poly')),\n",
        "])\n",
        "pipe2 = Pipeline([\n",
        "    ('tfidf', TfidfVectorizer()),\n",
        "    ('KNN', KNeighborsClassifier()),\n",
        "])\n",
        "pipe3 = Pipeline([\n",
        "    ('tfidf', TfidfVectorizer()),\n",
        "    ('svml', LinearSVC()),\n",
        "])\n",
        "pipe4 = Pipeline([\n",
        "    ('vect', CountVectorizer(stop_words=stopword)),\n",
        "    ('decision_tree', tree.DecisionTreeClassifier()),\n",
        "])\n",
        "parameters = {\n",
        "    'stop_words': stopword,\n",
        "    'analyzer': lem_stem\n",
        "    }\n",
        "\n",
        "def run_pipes(pipes, splits=5, test_size=0.2):  \n",
        "    res = defaultdict(list)\n",
        "    spliter = ShuffleSplit(n_splits=splits, test_size=test_size, random_state=0)\n",
        "    for idx_train, idx_test in spliter.split(corpus):\n",
        "        for pipe in pipes:\n",
        "            # name of the model\n",
        "            name = \"-\".join([x[0] for x in pipe.steps])\n",
        "            \n",
        "            # extract datasets\n",
        "            X_train = corpus[idx_train]\n",
        "            X_test = corpus[idx_test]\n",
        "            y_train = targets[idx_train]\n",
        "            y_test = targets[idx_test]\n",
        "            \n",
        "            # Learn\n",
        "            start = time()\n",
        "            pipe.fit(X_train, y_train)\n",
        "            fit_time = time() - start\n",
        "            \n",
        "            # predict and save results\n",
        "            y = pipe.predict(X_test)\n",
        "            res[name].append([\n",
        "                fit_time,\n",
        "                precision_score(y_test, y, average='macro'),\n",
        "                pipe.score(X_test, y_test),\n",
        "                recall_score(y_test, y, average='macro'),\n",
        "                f1_score(y_test, y, average='macro')\n",
        "            ])\n",
        "    return res\n",
        "\n",
        "def print_table(res):\n",
        "    # Compute mean and std\n",
        "    final = {}\n",
        "    for model in res:\n",
        "        arr = np.array(res[model])\n",
        "        final[model] = {\n",
        "            \"time\" : arr[:, 0].mean(),\n",
        "            \"precision\": arr[:, 1].round(3),\n",
        "            \"score\": arr[:, 2].round(3),\n",
        "            \"recall\": arr[:, 3].round(3),\n",
        "            \"f1_score\": arr[:,4].round(3)\n",
        "          \n",
        "        }\n",
        "\n",
        "    D_concat2 = pd.DataFrame.from_dict(final, orient=\"index\").round(3)\n",
        "    #print(D)\n",
        "    return D_concat2\n",
        "\n",
        "\n",
        "\n",
        "res_concat2 = run_pipes([pipe0, pipe1, pipe2, pipe3, pipe4], splits=1)\n",
        "print_table(res_concat2)"
      ],
      "execution_count": 17,
      "outputs": [
        {
          "output_type": "stream",
          "text": [
            "[nltk_data] Downloading package stopwords to /root/nltk_data...\n",
            "[nltk_data]   Package stopwords is already up-to-date!\n"
          ],
          "name": "stdout"
        },
        {
          "output_type": "stream",
          "text": [
            "/usr/local/lib/python3.6/dist-packages/sklearn/linear_model/_logistic.py:940: ConvergenceWarning: lbfgs failed to converge (status=1):\n",
            "STOP: TOTAL NO. of ITERATIONS REACHED LIMIT.\n",
            "\n",
            "Increase the number of iterations (max_iter) or scale the data as shown in:\n",
            "    https://scikit-learn.org/stable/modules/preprocessing.html\n",
            "Please also refer to the documentation for alternative solver options:\n",
            "    https://scikit-learn.org/stable/modules/linear_model.html#logistic-regression\n",
            "  extra_warning_msg=_LOGISTIC_SOLVER_CONVERGENCE_MSG)\n",
            "/usr/local/lib/python3.6/dist-packages/sklearn/metrics/_classification.py:1272: UndefinedMetricWarning: Precision is ill-defined and being set to 0.0 in labels with no predicted samples. Use `zero_division` parameter to control this behavior.\n",
            "  _warn_prf(average, modifier, msg_start, len(result))\n",
            "/usr/local/lib/python3.6/dist-packages/sklearn/metrics/_classification.py:1272: UndefinedMetricWarning: Precision is ill-defined and being set to 0.0 in labels with no predicted samples. Use `zero_division` parameter to control this behavior.\n",
            "  _warn_prf(average, modifier, msg_start, len(result))\n",
            "/usr/local/lib/python3.6/dist-packages/sklearn/metrics/_classification.py:1272: UndefinedMetricWarning: Precision is ill-defined and being set to 0.0 in labels with no predicted samples. Use `zero_division` parameter to control this behavior.\n",
            "  _warn_prf(average, modifier, msg_start, len(result))\n"
          ],
          "name": "stderr"
        },
        {
          "output_type": "execute_result",
          "data": {
            "text/html": [
              "<div>\n",
              "<style scoped>\n",
              "    .dataframe tbody tr th:only-of-type {\n",
              "        vertical-align: middle;\n",
              "    }\n",
              "\n",
              "    .dataframe tbody tr th {\n",
              "        vertical-align: top;\n",
              "    }\n",
              "\n",
              "    .dataframe thead th {\n",
              "        text-align: right;\n",
              "    }\n",
              "</style>\n",
              "<table border=\"1\" class=\"dataframe\">\n",
              "  <thead>\n",
              "    <tr style=\"text-align: right;\">\n",
              "      <th></th>\n",
              "      <th>time</th>\n",
              "      <th>precision</th>\n",
              "      <th>score</th>\n",
              "      <th>recall</th>\n",
              "      <th>f1_score</th>\n",
              "    </tr>\n",
              "  </thead>\n",
              "  <tbody>\n",
              "    <tr>\n",
              "      <th>tfidf-logit</th>\n",
              "      <td>25.655</td>\n",
              "      <td>[0.372]</td>\n",
              "      <td>[0.516]</td>\n",
              "      <td>[0.295]</td>\n",
              "      <td>[0.301]</td>\n",
              "    </tr>\n",
              "    <tr>\n",
              "      <th>tfidf-svm</th>\n",
              "      <td>2723.285</td>\n",
              "      <td>[0.323]</td>\n",
              "      <td>[0.425]</td>\n",
              "      <td>[0.192]</td>\n",
              "      <td>[0.182]</td>\n",
              "    </tr>\n",
              "    <tr>\n",
              "      <th>tfidf-KNN</th>\n",
              "      <td>0.798</td>\n",
              "      <td>[0.337]</td>\n",
              "      <td>[0.352]</td>\n",
              "      <td>[0.205]</td>\n",
              "      <td>[0.212]</td>\n",
              "    </tr>\n",
              "    <tr>\n",
              "      <th>tfidf-svml</th>\n",
              "      <td>3.629</td>\n",
              "      <td>[0.336]</td>\n",
              "      <td>[0.507]</td>\n",
              "      <td>[0.312]</td>\n",
              "      <td>[0.315]</td>\n",
              "    </tr>\n",
              "    <tr>\n",
              "      <th>vect-decision_tree</th>\n",
              "      <td>40.556</td>\n",
              "      <td>[0.313]</td>\n",
              "      <td>[0.468]</td>\n",
              "      <td>[0.3]</td>\n",
              "      <td>[0.304]</td>\n",
              "    </tr>\n",
              "  </tbody>\n",
              "</table>\n",
              "</div>"
            ],
            "text/plain": [
              "                        time precision    score   recall f1_score\n",
              "tfidf-logit           25.655   [0.372]  [0.516]  [0.295]  [0.301]\n",
              "tfidf-svm           2723.285   [0.323]  [0.425]  [0.192]  [0.182]\n",
              "tfidf-KNN              0.798   [0.337]  [0.352]  [0.205]  [0.212]\n",
              "tfidf-svml             3.629   [0.336]  [0.507]  [0.312]  [0.315]\n",
              "vect-decision_tree    40.556   [0.313]  [0.468]    [0.3]  [0.304]"
            ]
          },
          "metadata": {
            "tags": []
          },
          "execution_count": 17
        }
      ]
    },
    {
      "cell_type": "markdown",
      "metadata": {
        "id": "zX0V7G3Yljdt"
      },
      "source": [
        "# Mettre les resultats des pipes dans un seule dataframe"
      ]
    },
    {
      "cell_type": "code",
      "metadata": {
        "colab": {
          "base_uri": "https://localhost:8080/",
          "height": 204
        },
        "id": "nbMwFS6ogI0X",
        "outputId": "c8a578f1-40d9-4e36-96aa-a71d02d4ee08"
      },
      "source": [
        "print_table(res_concat2)"
      ],
      "execution_count": 19,
      "outputs": [
        {
          "output_type": "execute_result",
          "data": {
            "text/html": [
              "<div>\n",
              "<style scoped>\n",
              "    .dataframe tbody tr th:only-of-type {\n",
              "        vertical-align: middle;\n",
              "    }\n",
              "\n",
              "    .dataframe tbody tr th {\n",
              "        vertical-align: top;\n",
              "    }\n",
              "\n",
              "    .dataframe thead th {\n",
              "        text-align: right;\n",
              "    }\n",
              "</style>\n",
              "<table border=\"1\" class=\"dataframe\">\n",
              "  <thead>\n",
              "    <tr style=\"text-align: right;\">\n",
              "      <th></th>\n",
              "      <th>time</th>\n",
              "      <th>precision</th>\n",
              "      <th>score</th>\n",
              "      <th>recall</th>\n",
              "      <th>f1_score</th>\n",
              "    </tr>\n",
              "  </thead>\n",
              "  <tbody>\n",
              "    <tr>\n",
              "      <th>tfidf-logit</th>\n",
              "      <td>25.655</td>\n",
              "      <td>[0.372]</td>\n",
              "      <td>[0.516]</td>\n",
              "      <td>[0.295]</td>\n",
              "      <td>[0.301]</td>\n",
              "    </tr>\n",
              "    <tr>\n",
              "      <th>tfidf-svm</th>\n",
              "      <td>2723.285</td>\n",
              "      <td>[0.323]</td>\n",
              "      <td>[0.425]</td>\n",
              "      <td>[0.192]</td>\n",
              "      <td>[0.182]</td>\n",
              "    </tr>\n",
              "    <tr>\n",
              "      <th>tfidf-KNN</th>\n",
              "      <td>0.798</td>\n",
              "      <td>[0.337]</td>\n",
              "      <td>[0.352]</td>\n",
              "      <td>[0.205]</td>\n",
              "      <td>[0.212]</td>\n",
              "    </tr>\n",
              "    <tr>\n",
              "      <th>tfidf-svml</th>\n",
              "      <td>3.629</td>\n",
              "      <td>[0.336]</td>\n",
              "      <td>[0.507]</td>\n",
              "      <td>[0.312]</td>\n",
              "      <td>[0.315]</td>\n",
              "    </tr>\n",
              "    <tr>\n",
              "      <th>vect-decision_tree</th>\n",
              "      <td>40.556</td>\n",
              "      <td>[0.313]</td>\n",
              "      <td>[0.468]</td>\n",
              "      <td>[0.3]</td>\n",
              "      <td>[0.304]</td>\n",
              "    </tr>\n",
              "  </tbody>\n",
              "</table>\n",
              "</div>"
            ],
            "text/plain": [
              "                        time precision    score   recall f1_score\n",
              "tfidf-logit           25.655   [0.372]  [0.516]  [0.295]  [0.301]\n",
              "tfidf-svm           2723.285   [0.323]  [0.425]  [0.192]  [0.182]\n",
              "tfidf-KNN              0.798   [0.337]  [0.352]  [0.205]  [0.212]\n",
              "tfidf-svml             3.629   [0.336]  [0.507]  [0.312]  [0.315]\n",
              "vect-decision_tree    40.556   [0.313]  [0.468]    [0.3]  [0.304]"
            ]
          },
          "metadata": {
            "tags": []
          },
          "execution_count": 19
        }
      ]
    },
    {
      "cell_type": "markdown",
      "metadata": {
        "id": "2E8NdfA491Ku"
      },
      "source": [
        "# TfidfVectorizer(stopwords,ngram=(1,2)"
      ]
    },
    {
      "cell_type": "code",
      "metadata": {
        "colab": {
          "base_uri": "https://localhost:8080/"
        },
        "id": "Ry1Nkf8Xgqd8",
        "outputId": "d54e5faf-4634-4a12-b6cd-ea12079c8850"
      },
      "source": [
        "from sklearn.feature_extraction.text import TfidfVectorizer\n",
        "import nltk\n",
        "from nltk.corpus import stopwords\n",
        "import numpy as np\n",
        "\n",
        "x_concat = data_concat.Text\n",
        "print(x_concat.shape)\n",
        "\n",
        "y_concat = data_concat.Emotion\n",
        "print(y_concat.shape)\n",
        "\n",
        "stopword = stopwords.words('english')\n",
        "\n",
        "vc_concat = TfidfVectorizer(stop_words=stopword, ngram_range=(1,2))\n",
        "X_concat = vc_concat.fit_transform(x_concat)\n",
        "print(X_concat.shape)"
      ],
      "execution_count": 11,
      "outputs": [
        {
          "output_type": "stream",
          "text": [
            "(61459,)\n",
            "(61459,)\n",
            "(61459, 376459)\n"
          ],
          "name": "stdout"
        }
      ]
    },
    {
      "cell_type": "code",
      "metadata": {
        "colab": {
          "base_uri": "https://localhost:8080/"
        },
        "id": "IWk6yO0a-CNN",
        "outputId": "2e1ae97c-a57b-4e5c-af8a-1147c92283b0"
      },
      "source": [
        "from sklearn.svm import SVC\n",
        "from sklearn import svm\n",
        "from sklearn.model_selection import train_test_split\n",
        "\n",
        "x_concat_train, x_concat_test, y_concat_train, y_concat_test = train_test_split(X_concat, y_concat, test_size = 0.2, random_state=0)\n",
        "\n",
        "model_SVM_poly_concat = svm.SVC(kernel='poly')\n",
        "model_SVM_poly_concat.fit(X_concat, y_concat)"
      ],
      "execution_count": 12,
      "outputs": [
        {
          "output_type": "execute_result",
          "data": {
            "text/plain": [
              "SVC(C=1.0, break_ties=False, cache_size=200, class_weight=None, coef0=0.0,\n",
              "    decision_function_shape='ovr', degree=3, gamma='scale', kernel='poly',\n",
              "    max_iter=-1, probability=False, random_state=None, shrinking=True,\n",
              "    tol=0.001, verbose=False)"
            ]
          },
          "metadata": {
            "tags": []
          },
          "execution_count": 12
        }
      ]
    },
    {
      "cell_type": "code",
      "metadata": {
        "colab": {
          "base_uri": "https://localhost:8080/"
        },
        "id": "BeOxUZhd-FzC",
        "outputId": "6121e2af-3416-4c71-84b3-c204a0d0f62e"
      },
      "source": [
        "y_concat_pred=model_SVM_poly_concat.predict(x_concat_test)\n",
        "print(model_SVM_poly_concat.predict(X_concat[0]))\n",
        "print(model_SVM_poly_concat.predict(X_concat[3]))\n",
        "print(model_SVM_poly_concat.predict(X_concat[4]))\n",
        "print(model_SVM_poly_concat.predict(X_concat[39995]))\n",
        "print(model_SVM_poly_concat.predict(X_concat[39999]))\n",
        "print(model_SVM_poly_concat.predict(X_concat[39980]))\n",
        "print(model_SVM_poly_concat.predict(X_concat[39982]))"
      ],
      "execution_count": 13,
      "outputs": [
        {
          "output_type": "stream",
          "text": [
            "[2]\n",
            "[5]\n",
            "[3]\n",
            "[4]\n",
            "[2]\n",
            "[13]\n",
            "[4]\n"
          ],
          "name": "stdout"
        }
      ]
    },
    {
      "cell_type": "code",
      "metadata": {
        "colab": {
          "base_uri": "https://localhost:8080/"
        },
        "id": "dXr6xlzlRW5T",
        "outputId": "e82b9a2a-5d3c-459c-9c36-8fdd0328d08c"
      },
      "source": [
        "print(model_SVM_poly_concat.predict(X_concat[39996]))\n",
        "print(model_SVM_poly_concat.predict(X_concat[39997]))\n",
        "print(model_SVM_poly_concat.predict(X_concat[39998]))\n",
        "print(model_SVM_poly_concat.predict(X_concat[39986]))"
      ],
      "execution_count": 14,
      "outputs": [
        {
          "output_type": "stream",
          "text": [
            "[4]\n",
            "[2]\n",
            "[4]\n",
            "[2]\n"
          ],
          "name": "stdout"
        }
      ]
    },
    {
      "cell_type": "code",
      "metadata": {
        "colab": {
          "base_uri": "https://localhost:8080/"
        },
        "id": "ByhHeAgNRoza",
        "outputId": "9a05d0dc-8319-4527-8339-e6596bd84df0"
      },
      "source": [
        "print(X_concat[39995])\n",
        "print(type(X_concat[39995]))"
      ],
      "execution_count": 33,
      "outputs": [
        {
          "output_type": "stream",
          "text": [
            "  (0, 41028)\t0.573855757943944\n",
            "  (0, 213322)\t0.4366900859826896\n",
            "  (0, 213337)\t0.692814071651993\n",
            "<class 'scipy.sparse.csr.csr_matrix'>\n"
          ],
          "name": "stdout"
        }
      ]
    },
    {
      "cell_type": "code",
      "metadata": {
        "colab": {
          "base_uri": "https://localhost:8080/"
        },
        "id": "8M91FfI--MX0",
        "outputId": "50a406c2-8013-4fb9-8729-e9af9cc9440c"
      },
      "source": [
        "from sklearn.metrics import classification_report\n",
        "\n",
        "print(classification_report(y_concat_test,y_concat_pred))"
      ],
      "execution_count": 15,
      "outputs": [
        {
          "output_type": "stream",
          "text": [
            "              precision    recall  f1-score   support\n",
            "\n",
            "           1       0.99      1.00      0.99      2459\n",
            "           2       0.99      0.99      0.99      2272\n",
            "           3       1.00      1.00      1.00       616\n",
            "           4       0.99      0.99      0.99      2235\n",
            "           5       0.99      0.99      0.99      1109\n",
            "           6       1.00      0.98      0.99       624\n",
            "           7       1.00      0.98      0.99       352\n",
            "           8       1.00      0.98      0.99       317\n",
            "           9       1.00      0.94      0.97       158\n",
            "          10       1.00      0.98      0.99       166\n",
            "          11       1.00      0.97      0.99        37\n",
            "          12       1.00      0.98      0.99       258\n",
            "          13       0.99      0.99      0.99      1689\n",
            "\n",
            "    accuracy                           0.99     12292\n",
            "   macro avg       1.00      0.98      0.99     12292\n",
            "weighted avg       0.99      0.99      0.99     12292\n",
            "\n"
          ],
          "name": "stdout"
        }
      ]
    },
    {
      "cell_type": "markdown",
      "metadata": {
        "id": "_MUCanbNm82m"
      },
      "source": [
        "# Pipeline pour améliorer le model"
      ]
    },
    {
      "cell_type": "code",
      "metadata": {
        "colab": {
          "base_uri": "https://localhost:8080/",
          "height": 496
        },
        "id": "_yqRoFZ4nDfi",
        "outputId": "f94cc5f4-4c30-4e72-adf6-86031d537fdc"
      },
      "source": [
        "from time import time\n",
        "from collections import defaultdict\n",
        "import numpy as np\n",
        "import pandas as pd\n",
        "import matplotlib.pyplot as plt\n",
        "%matplotlib inline\n",
        "\n",
        "from sklearn.feature_extraction.text import CountVectorizer, TfidfVectorizer, TfidfTransformer\n",
        "from sklearn.model_selection import ShuffleSplit\n",
        "from sklearn.pipeline import Pipeline, FeatureUnion\n",
        "from sklearn.linear_model import SGDClassifier, LogisticRegression, LogisticRegressionCV\n",
        "from sklearn.neighbors import KNeighborsClassifier\n",
        "from sklearn import tree\n",
        "from sklearn import svm\n",
        "from sklearn.svm import SVC, LinearSVC\n",
        "from sklearn.naive_bayes import MultinomialNB, CategoricalNB, ComplementNB, BernoulliNB\n",
        "from sklearn.decomposition import FastICA, KernelPCA, TruncatedSVD, SparsePCA, NMF, FactorAnalysis, LatentDirichletAllocation\n",
        "from sklearn.metrics import precision_score, recall_score, accuracy_score,f1_score\n",
        "import nltk\n",
        "nltk.download('stopwords')\n",
        "from nltk.corpus import stopwords\n",
        "\n",
        "\n",
        "corpus = data_concat.Text\n",
        "targets = data_concat.Emotion\n",
        "\n",
        "stopword = stopwords.words('english')\n",
        "\n",
        "pipe0 = Pipeline([\n",
        "    ('tfidf', TfidfVectorizer()),\n",
        "    ('logit', LogisticRegression()),\n",
        "])\n",
        "pipe1 = Pipeline([\n",
        "    ('tfidf', TfidfVectorizer()),\n",
        "    ('svm', svm.SVC(kernel='poly')),\n",
        "])\n",
        "pipe2 = Pipeline([\n",
        "    ('tfidf', TfidfVectorizer()),\n",
        "    ('KNN', KNeighborsClassifier()),\n",
        "])\n",
        "pipe3 = Pipeline([\n",
        "    ('tfidf', TfidfVectorizer()),\n",
        "    ('svml', LinearSVC()),\n",
        "])\n",
        "pipe4 = Pipeline([\n",
        "    ('vect', CountVectorizer(stop_words=stopword)),\n",
        "    ('decision_tree', tree.DecisionTreeClassifier()),\n",
        "])\n",
        "parameters = {\n",
        "    'stop_words': stopword,\n",
        "    'ngram_range': (1,2),\n",
        "    'sublinear_tf':True, \n",
        "    'min_df':5,\n",
        "    'norm':'l2'\n",
        "    #'encoding':'latin-1'\n",
        "    }\n",
        "\n",
        "def run_pipes(pipes, splits=5, test_size=0.2):  \n",
        "    res = defaultdict(list)\n",
        "    spliter = ShuffleSplit(n_splits=splits, test_size=test_size, random_state=0)\n",
        "    for idx_train, idx_test in spliter.split(corpus):\n",
        "        for pipe in pipes:\n",
        "            # name of the model\n",
        "            name = \"-\".join([x[0] for x in pipe.steps])\n",
        "            \n",
        "            # extract datasets\n",
        "            X_train = corpus[idx_train]\n",
        "            X_test = corpus[idx_test]\n",
        "            y_train = targets[idx_train]\n",
        "            y_test = targets[idx_test]\n",
        "            \n",
        "            # Learn\n",
        "            start = time()\n",
        "            pipe.fit(X_train, y_train)\n",
        "            fit_time = time() - start\n",
        "            \n",
        "            # predict and save results\n",
        "            y = pipe.predict(X_test)\n",
        "            res[name].append([\n",
        "                fit_time,\n",
        "                precision_score(y_test, y, average='macro'),\n",
        "                pipe.score(X_test, y_test),\n",
        "                recall_score(y_test, y, average='macro'),\n",
        "                f1_score(y_test, y, average='macro')\n",
        "            ])\n",
        "    return res\n",
        "\n",
        "def print_table(res):\n",
        "    # Compute mean and std\n",
        "    final = {}\n",
        "    for model in res:\n",
        "        arr = np.array(res[model])\n",
        "        final[model] = {\n",
        "            \"time\" : arr[:, 0].mean(),\n",
        "            \"precision\": arr[:, 1].round(3),\n",
        "            \"score\": arr[:, 2].round(3),\n",
        "            \"recall\": arr[:, 3].round(3),\n",
        "            \"f1_score\": arr[:,4].round(3)\n",
        "          \n",
        "        }\n",
        "\n",
        "    D_ameliore = pd.DataFrame.from_dict(final, orient=\"index\").round(3)\n",
        "    #print(D)\n",
        "    return D_ameliore\n",
        "\n",
        "\n",
        "\n",
        "res_ameliore = run_pipes([pipe0, pipe1, pipe2, pipe3, pipe4], splits=1)\n",
        "print_table(res_ameliore)"
      ],
      "execution_count": 10,
      "outputs": [
        {
          "output_type": "stream",
          "text": [
            "[nltk_data] Downloading package stopwords to /root/nltk_data...\n",
            "[nltk_data]   Unzipping corpora/stopwords.zip.\n"
          ],
          "name": "stdout"
        },
        {
          "output_type": "stream",
          "text": [
            "/usr/local/lib/python3.6/dist-packages/sklearn/linear_model/_logistic.py:940: ConvergenceWarning: lbfgs failed to converge (status=1):\n",
            "STOP: TOTAL NO. of ITERATIONS REACHED LIMIT.\n",
            "\n",
            "Increase the number of iterations (max_iter) or scale the data as shown in:\n",
            "    https://scikit-learn.org/stable/modules/preprocessing.html\n",
            "Please also refer to the documentation for alternative solver options:\n",
            "    https://scikit-learn.org/stable/modules/linear_model.html#logistic-regression\n",
            "  extra_warning_msg=_LOGISTIC_SOLVER_CONVERGENCE_MSG)\n",
            "/usr/local/lib/python3.6/dist-packages/sklearn/metrics/_classification.py:1272: UndefinedMetricWarning: Precision is ill-defined and being set to 0.0 in labels with no predicted samples. Use `zero_division` parameter to control this behavior.\n",
            "  _warn_prf(average, modifier, msg_start, len(result))\n",
            "/usr/local/lib/python3.6/dist-packages/sklearn/metrics/_classification.py:1272: UndefinedMetricWarning: Precision is ill-defined and being set to 0.0 in labels with no predicted samples. Use `zero_division` parameter to control this behavior.\n",
            "  _warn_prf(average, modifier, msg_start, len(result))\n",
            "/usr/local/lib/python3.6/dist-packages/sklearn/metrics/_classification.py:1272: UndefinedMetricWarning: Precision is ill-defined and being set to 0.0 in labels with no predicted samples. Use `zero_division` parameter to control this behavior.\n",
            "  _warn_prf(average, modifier, msg_start, len(result))\n"
          ],
          "name": "stderr"
        },
        {
          "output_type": "execute_result",
          "data": {
            "text/html": [
              "<div>\n",
              "<style scoped>\n",
              "    .dataframe tbody tr th:only-of-type {\n",
              "        vertical-align: middle;\n",
              "    }\n",
              "\n",
              "    .dataframe tbody tr th {\n",
              "        vertical-align: top;\n",
              "    }\n",
              "\n",
              "    .dataframe thead th {\n",
              "        text-align: right;\n",
              "    }\n",
              "</style>\n",
              "<table border=\"1\" class=\"dataframe\">\n",
              "  <thead>\n",
              "    <tr style=\"text-align: right;\">\n",
              "      <th></th>\n",
              "      <th>time</th>\n",
              "      <th>precision</th>\n",
              "      <th>score</th>\n",
              "      <th>recall</th>\n",
              "      <th>f1_score</th>\n",
              "    </tr>\n",
              "  </thead>\n",
              "  <tbody>\n",
              "    <tr>\n",
              "      <th>tfidf-logit</th>\n",
              "      <td>22.314</td>\n",
              "      <td>[0.372]</td>\n",
              "      <td>[0.516]</td>\n",
              "      <td>[0.295]</td>\n",
              "      <td>[0.301]</td>\n",
              "    </tr>\n",
              "    <tr>\n",
              "      <th>tfidf-svm</th>\n",
              "      <td>2664.365</td>\n",
              "      <td>[0.323]</td>\n",
              "      <td>[0.425]</td>\n",
              "      <td>[0.192]</td>\n",
              "      <td>[0.182]</td>\n",
              "    </tr>\n",
              "    <tr>\n",
              "      <th>tfidf-KNN</th>\n",
              "      <td>0.841</td>\n",
              "      <td>[0.337]</td>\n",
              "      <td>[0.352]</td>\n",
              "      <td>[0.205]</td>\n",
              "      <td>[0.212]</td>\n",
              "    </tr>\n",
              "    <tr>\n",
              "      <th>tfidf-svml</th>\n",
              "      <td>4.204</td>\n",
              "      <td>[0.336]</td>\n",
              "      <td>[0.507]</td>\n",
              "      <td>[0.312]</td>\n",
              "      <td>[0.315]</td>\n",
              "    </tr>\n",
              "    <tr>\n",
              "      <th>vect-decision_tree</th>\n",
              "      <td>41.091</td>\n",
              "      <td>[0.316]</td>\n",
              "      <td>[0.472]</td>\n",
              "      <td>[0.303]</td>\n",
              "      <td>[0.306]</td>\n",
              "    </tr>\n",
              "  </tbody>\n",
              "</table>\n",
              "</div>"
            ],
            "text/plain": [
              "                        time precision    score   recall f1_score\n",
              "tfidf-logit           22.314   [0.372]  [0.516]  [0.295]  [0.301]\n",
              "tfidf-svm           2664.365   [0.323]  [0.425]  [0.192]  [0.182]\n",
              "tfidf-KNN              0.841   [0.337]  [0.352]  [0.205]  [0.212]\n",
              "tfidf-svml             4.204   [0.336]  [0.507]  [0.312]  [0.315]\n",
              "vect-decision_tree    41.091   [0.316]  [0.472]  [0.303]  [0.306]"
            ]
          },
          "metadata": {
            "tags": []
          },
          "execution_count": 10
        }
      ]
    },
    {
      "cell_type": "markdown",
      "metadata": {
        "id": "_jB8gFHAKn4u"
      },
      "source": [
        "On remarque que même en ajoutant des arguments comme :\n",
        "- sublinear_tf = True, \n",
        "- min_df = 5,\n",
        "- norm = l2  \n",
        "\n",
        "en plus du stopwords et le ngram_range = (1,2) \n",
        " \n",
        "on obtient à peu près les mêmes scores, les plus performants sont :\n",
        "- Logistic Regression\n",
        "- SVM linear"
      ]
    },
    {
      "cell_type": "code",
      "metadata": {
        "id": "RUo75wV7k4ij"
      },
      "source": [
        ""
      ],
      "execution_count": null,
      "outputs": []
    }
  ]
}